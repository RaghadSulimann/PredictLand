{
  "nbformat": 4,
  "nbformat_minor": 0,
  "metadata": {
    "colab": {
      "provenance": []
    },
    "kernelspec": {
      "name": "python3",
      "display_name": "Python 3"
    },
    "language_info": {
      "name": "python"
    }
  },
  "cells": [
    {
      "cell_type": "code",
      "source": [
        "\n",
        "# Function to clean and convert\n",
        "def clean_and_convert(price_str):\n",
        "    # Remove any non-numeric characters (including Arabic commas)\n",
        "    cleaned_price = ''.join(c for c in price_str if c.isdigit() or c == '.')\n",
        "\n",
        "    # Convert to float\n",
        "    try:\n",
        "        return float(cleaned_price)\n",
        "    except ValueError:\n",
        "        # Handle cases where the conversion fails\n",
        "        return None  # or another appropriate value\n"
      ],
      "metadata": {
        "id": "KI3GVd337qLK"
      },
      "execution_count": 11,
      "outputs": []
    },
    {
      "cell_type": "code",
      "source": [
        "import pandas as pd\n",
        "from sklearn.ensemble import RandomForestRegressor\n",
        "from sklearn.metrics import mean_squared_error, r2_score\n",
        "from sklearn.model_selection import train_test_split\n",
        "from sklearn.preprocessing import LabelEncoder\n",
        "from sklearn.impute import SimpleImputer  # Import the imputer\n",
        "\n",
        "# Load your dataset\n",
        "land = pd.read_csv('land.csv')\n",
        "\n",
        "land.head()\n",
        "# Apply the cleaning function to 'the price' column\n",
        "land['the price'] = land['the price'].apply(clean_and_convert)\n",
        "land['Space'] = land['Space'].apply(clean_and_convert)  # Apply the appropriate cleaning function for 'space'\n",
        "\n",
        "features = land.drop('the price', axis=1)\n",
        "features['Space'] = land['Space']\n",
        "target = land['the price']\n",
        "\n",
        "# Convert categorical columns to numerical using Label Encoding\n",
        "label_encoder = LabelEncoder()\n",
        "for column in features.select_dtypes(include=['object']).columns:\n",
        "    features[column] = label_encoder.fit_transform(features[column])\n",
        "\n",
        "# Impute missing values using SimpleImputer\n",
        "imputer = SimpleImputer(strategy='mean')\n",
        "features_imputed = pd.DataFrame(imputer.fit_transform(features), columns=features.columns)\n",
        "\n",
        "# Split the data into training and testing sets\n",
        "X_train, X_test, y_train, y_test = train_test_split(features_imputed, target, test_size=0.1, random_state=42)\n",
        "\n",
        "# Create a Random Forest Regressor\n",
        "regressor = RandomForestRegressor(random_state=42)\n",
        "\n",
        "# Train the regressor on the training data\n",
        "regressor.fit(X_train, y_train)\n",
        "\n",
        "# Make predictions on the test set\n",
        "predictions = regressor.predict(X_test)\n",
        "\n",
        "# Evaluate model performance for regression\n",
        "mse = mean_squared_error(y_test, predictions)\n",
        "r2 = r2_score(y_test, predictions)\n",
        "\n",
        "print(f'Mean Squared Error: {mse}')\n",
        "print(f'R-squared: {r2}')\n",
        "\n",
        "\n"
      ],
      "metadata": {
        "colab": {
          "base_uri": "https://localhost:8080/"
        },
        "id": "Yo1HbKGs9YZE",
        "outputId": "f5ff78fa-bd89-4a16-a376-52fd44eaef6f"
      },
      "execution_count": 12,
      "outputs": [
        {
          "output_type": "stream",
          "name": "stdout",
          "text": [
            "Mean Squared Error: 4392506126844.7803\n",
            "R-squared: 0.5863619906552313\n"
          ]
        }
      ]
    },
    {
      "cell_type": "code",
      "source": [
        "import pandas as pd\n",
        "from sklearn.experimental import enable_hist_gradient_boosting  # noqa\n",
        "from sklearn.ensemble import HistGradientBoostingRegressor\n",
        "from sklearn.metrics import mean_squared_error, r2_score\n",
        "from sklearn.model_selection import train_test_split\n",
        "from sklearn.preprocessing import LabelEncoder\n",
        "\n",
        "# Function to clean and convert 'the price' column to numeric\n",
        "def clean_and_convert_price(value):\n",
        "    if isinstance(value, str):\n",
        "        try:\n",
        "            # Remove Arabic comma and convert to float\n",
        "            cleaned_value = float(value.replace('٬', '').replace(',', ''))\n",
        "            return cleaned_value\n",
        "        except ValueError:\n",
        "            return pd.NaT  # Return NaT (Not a Time) for values that couldn't be converted\n",
        "    else:\n",
        "        return value  # Return the original value for non-string elements\n",
        "\n",
        "# Load your dataset (replace 'data.csv' with the actual filename or path to your dataset)\n",
        "land = pd.read_csv('land.csv')\n",
        "\n",
        "# Apply the cleaning function to 'the price' column\n",
        "land['the price'] = land['the price'].apply(clean_and_convert_price)\n",
        "\n",
        "# Extract features and target variable\n",
        "features = land.drop('the price', axis=1)\n",
        "target = land['the price']\n",
        "\n",
        "# Convert categorical columns to numerical using Label Encoding\n",
        "label_encoder = LabelEncoder()\n",
        "for column in features.select_dtypes(include=['object']).columns:\n",
        "    features[column] = label_encoder.fit_transform(features[column])\n",
        "\n",
        "# Split the data into training and testing sets\n",
        "X_train, X_test, y_train, y_test = train_test_split(features, target, test_size=0.2, random_state=42)\n",
        "\n",
        "\n"
      ],
      "metadata": {
        "id": "K0c-qzKLUeo6"
      },
      "execution_count": 13,
      "outputs": []
    },
    {
      "cell_type": "code",
      "source": [
        "# Assuming you have the required functions and the model loaded\n",
        "\n",
        "# Sample data\n",
        "new_data = pd.DataFrame({\n",
        "    'Region': ['Riyadh region'],\n",
        "    'City': ['Riyadh'],\n",
        "    'City / neighborhood': ['Riyadh/Al -Nazim'],\n",
        "    'The reference number of the deal': ['20051562.0'],  # Convert to string\n",
        "    'The date of the deal AD': ['2023/05/30'],\n",
        "    'Hijri date of the deal': ['11/11/1444'],\n",
        "    'Real estate classification': ['residential'],\n",
        "    'Real estate': ['piece of ground'],\n",
        "    'The number of real estate': ['1.0'],  # Convert to string\n",
        "    'Space': ['81,640,539']\n",
        "})\n",
        "\n",
        "\n",
        "\n",
        "# Update the year to 2024\n",
        "new_data['The date of the deal AD'] = new_data['The date of the deal AD'].str.replace('2023', '2024')\n",
        "new_data['Hijri date of the deal'] = new_data['Hijri date of the deal'].str.replace('1444', '1445')\n",
        "\n",
        "# Apply the cleaning function to 'the price' column\n",
        "new_data['the price'] = new_data['Space'].apply(clean_and_convert_price)\n",
        "\n",
        "# Convert 'Space' to numeric\n",
        "new_data['Space'] = new_data['Space'].str.replace(',', '').astype(float)\n",
        "\n",
        "\n",
        "\n",
        "# Combine the training and new data for consistent label encoding\n",
        "combined_data = pd.concat([features, new_data])\n",
        "\n",
        "# Convert all columns to strings before label encoding\n",
        "combined_data = combined_data.astype(str)\n",
        "\n",
        "# Convert categorical columns to numerical using Label Encoding\n",
        "label_encoder = LabelEncoder()\n",
        "\n",
        "# Fit and transform during training\n",
        "for column in combined_data.columns:\n",
        "    combined_data[column] = label_encoder.fit_transform(combined_data[column])\n",
        "\n",
        "# Split the combined data back into training and new data\n",
        "features_encoded = combined_data.iloc[:len(features)]\n",
        "new_data_encoded = combined_data.iloc[len(features):]\n",
        "\n",
        "# Assume 'new_data_encoded' has the same features as your training data (excluding 'the price')\n",
        "new_data_features = new_data_encoded.drop('the price', axis=1)\n",
        "\n",
        "# Make predictions\n",
        "predicted_price = regressor.predict(new_data_features)\n",
        "\n",
        "# Print the predicted price\n",
        "print(f'Predicted Price: {predicted_price[0]}')\n"
      ],
      "metadata": {
        "colab": {
          "base_uri": "https://localhost:8080/"
        },
        "id": "v5qsCpYJRFyb",
        "outputId": "d3d675bb-fd56-431b-f8cc-9005e0a72a9c"
      },
      "execution_count": 18,
      "outputs": [
        {
          "output_type": "stream",
          "name": "stdout",
          "text": [
            "Predicted Price: 9419298.34\n"
          ]
        }
      ]
    }
  ]
}