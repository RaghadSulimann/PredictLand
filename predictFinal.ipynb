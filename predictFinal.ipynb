{
  "nbformat": 4,
  "nbformat_minor": 0,
  "metadata": {
    "colab": {
      "provenance": []
    },
    "kernelspec": {
      "name": "python3",
      "display_name": "Python 3"
    },
    "language_info": {
      "name": "python"
    }
  },
  "cells": [
    {
      "cell_type": "code",
      "source": [
        "\n",
        "# Function to clean and convert\n",
        "def clean_and_convert(price_str):\n",
        "    # Remove any non-numeric characters (including Arabic commas)\n",
        "    cleaned_price = ''.join(c for c in price_str if c.isdigit() or c == '.')\n",
        "\n",
        "    # Convert to float\n",
        "    try:\n",
        "        return float(cleaned_price)\n",
        "    except ValueError:\n",
        "        # Handle cases where the conversion fails\n",
        "        return None  # or another appropriate value\n"
      ],
      "metadata": {
        "id": "KI3GVd337qLK"
      },
      "execution_count": 11,
      "outputs": []
    },
    {
      "cell_type": "code",
      "source": [
        "import pandas as pd\n",
        "from sklearn.ensemble import RandomForestRegressor\n",
        "from sklearn.metrics import mean_squared_error, r2_score\n",
        "from sklearn.model_selection import train_test_split\n",
        "from sklearn.preprocessing import LabelEncoder\n",
        "from sklearn.impute import SimpleImputer  # Import the imputer\n",
        "\n",
        "# Load your dataset\n",
        "land = pd.read_csv('land.csv')\n",
        "\n",
        "land.head()\n",
        "# Apply the cleaning function to 'the price' column\n",
        "land['the price'] = land['the price'].apply(clean_and_convert)\n",
        "land['Space'] = land['Space'].apply(clean_and_convert)  # Apply the appropriate cleaning function for 'space'\n",
        "\n",
        "features = land.drop('the price', axis=1)\n",
        "features['Space'] = land['Space']\n",
        "target = land['the price']\n",
        "\n",
        "# Convert categorical columns to numerical using Label Encoding\n",
        "label_encoder = LabelEncoder()\n",
        "for column in features.select_dtypes(include=['object']).columns:\n",
        "    features[column] = label_encoder.fit_transform(features[column])\n",
        "\n",
        "# Impute missing values using SimpleImputer\n",
        "imputer = SimpleImputer(strategy='mean')\n",
        "features_imputed = pd.DataFrame(imputer.fit_transform(features), columns=features.columns)\n",
        "\n",
        "# Split the data into training and testing sets\n",
        "X_train, X_test, y_train, y_test = train_test_split(features_imputed, target, test_size=0.1, random_state=42)\n",
        "\n",
        "# Create a Random Forest Regressor\n",
        "regressor = RandomForestRegressor(random_state=42)\n",
        "\n",
        "# Train the regressor on the training data\n",
        "regressor.fit(X_train, y_train)\n",
        "\n",
        "# Make predictions on the test set\n",
        "predictions = regressor.predict(X_test)\n",
        "\n",
        "# Evaluate model performance for regression\n",
        "mse = mean_squared_error(y_test, predictions)\n",
        "r2 = r2_score(y_test, predictions)\n",
        "\n",
        "print(f'Mean Squared Error: {mse}')\n",
        "print(f'R-squared: {r2}')\n",
        "\n",
        "\n"
      ],
      "metadata": {
        "colab": {
          "base_uri": "https://localhost:8080/"
        },
        "id": "Yo1HbKGs9YZE",
        "outputId": "f5ff78fa-bd89-4a16-a376-52fd44eaef6f"
      },
      "execution_count": 12,
      "outputs": [
        {
          "output_type": "stream",
          "name": "stdout",
          "text": [
            "Mean Squared Error: 4392506126844.7803\n",
            "R-squared: 0.5863619906552313\n"
          ]
        }
      ]
    }
  ]
}